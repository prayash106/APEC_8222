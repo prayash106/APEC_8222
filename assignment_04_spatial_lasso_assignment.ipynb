{
    "cells": [
        {
            "cell_type": "markdown",
            "metadata": {},
            "source": [
                "This assignment will give you a real (active) research topic that I've discussed a little bit in class: predicting carbon storage as a function of high-resolution gridded data. In the class google drive you will find all the data you need in the Soyo_tile folder.\n",
                "\n",
                "This assignment will have you use the automated variable selection approach within LASSO to deal with a common situation in regressions on raster-stacks: we have so much data everything is significant but will lead to massive overfitting. The basic approach used here will involve reading in 2d rasters, flattening them into a 1d column ready to add to a dataframe shaped object, which we will use as our X matrix.\n",
                "\n",
                "Please turn in the completed Notebook (.ipynb) file that includes the results you generate. \n",
                "\n",
                "Below is some starter code along with specific assignment questions.\n"
            ]
        },
        {
            "cell_type": "code",
            "execution_count": 13,
            "metadata": {},
            "outputs": [],
            "source": [
                "# Load libraries\n",
                "import numpy as np\n",
                "import os\n",
                "from osgeo import gdal\n",
                "from sklearn.linear_model import Lasso\n",
                "from matplotlib import pyplot as plt\n",
                "import statsmodels\n",
                "from statsmodels.api import OLS\n",
                "import matplotlib.pyplot as plt\n",
                "from sklearn.feature_selection import SelectFromModel\n",
                "from sklearn.linear_model import LassoCV, Lasso\n",
                "from sklearn.metrics import mean_squared_error, r2_score\n",
                "\n"
            ]
        },
        {
            "cell_type": "markdown",
            "metadata": {},
            "source": [
                "## Step 1: Download the data and set paths\n",
                "\n",
                "Download the latest data from the class's google drive. In there, you will need the the files in `Data/python_assignment_2` data and assign a relative path to the `soyo_tile` directory in that assignment directory. It is your task to ensure your script runs in the right location and the data is stored in the right location that this relative path works."
            ]
        },
        {
            "cell_type": "code",
            "execution_count": 14,
            "metadata": {},
            "outputs": [],
            "source": [
                "# Step 1 code\n",
                "#define the data relative path\n",
                "import os, random\n",
                "data_dir = '../../../../data/soyo_tile' "
            ]
        },
        {
            "cell_type": "markdown",
            "metadata": {},
            "source": [
                "## Step 2: Set raster paths \n",
                "\n",
                "Assign each of the raster paths in the directory to a dictionary for later use. I've included most of the code (so you don't have to waste your time typing), but add in the missing paths."
            ]
        },
        {
            "cell_type": "code",
            "execution_count": 15,
            "metadata": {},
            "outputs": [],
            "source": [
                "# Step 2 code\n",
                "\n",
                "raster_paths = {}\n",
                "\n",
                "# First is the dependent varable, Above Ground Carbon (AGB) in tons, measured \n",
                "# at 30 meters globally (here it is clipped to a smaller area)\n",
                "raster_paths['agb_observed_baccini_2000_30m'] = os.path.join(data_dir, \"agb_observed_baccini_2000_30m.tif\")\n",
                "\n",
                "# Here are some of the independent variables\n",
                "raster_paths['CRFVOL_M_sl1_250m'] = os.path.join(data_dir, \"CRFVOL_M_sl1_250m.tif\")\n",
                "raster_paths['HISTPR_250m'] = os.path.join(data_dir, \"HISTPR_250m.tif\")\n",
                "raster_paths['OCDENS_M_sl1_250m'] = os.path.join(data_dir, \"OCDENS_M_sl1_250m.tif\")\n",
                "raster_paths['PHIHOX_M_sl1_250m'] = os.path.join(data_dir, \"PHIHOX_M_sl1_250m.tif\")\n",
                "raster_paths['roughness_30s'] = os.path.join(data_dir, \"roughness_30s.tif\")\n",
                "raster_paths['SLGWRB_250m'] = os.path.join(data_dir, \"SLGWRB_250m.tif\")\n",
                "raster_paths['SLTPPT_M_sl1_250m'] = os.path.join(data_dir, \"SLTPPT_M_sl1_250m.tif\")\n",
                "raster_paths['terrain_ruggedness_index_30s'] = os.path.join(data_dir, \"terrain_ruggedness_index_30s.tif\")\n",
                "raster_paths['TEXMHT_M_sl1_250m'] = os.path.join(data_dir, \"TEXMHT_M_sl1_250m.tif\")\n",
                "raster_paths['wc2.0_bio_30s_01'] = os.path.join(data_dir, \"wc2.0_bio_30s_01.tif\")\n",
                "raster_paths['alt_30s'] = os.path.join(data_dir, \"alt_30s.tif\")\n",
                "raster_paths['AWCh1_M_sl1_250m'] = os.path.join(data_dir, \"AWCh1_M_sl1_250m.tif\")\n",
                "raster_paths['BDRICM_M_250m'] = os.path.join(data_dir, \"BDRICM_M_250m.tif\")\n",
                "raster_paths['BDRLOG_M_250m'] = os.path.join(data_dir, \"BDRLOG_M_250m.tif\")\n",
                "raster_paths['BLDFIE_M_sl1_250m'] = os.path.join(data_dir, \"BLDFIE_M_sl1_250m.tif\")\n"
            ]
        },
        {
            "cell_type": "code",
            "execution_count": 16,
            "metadata": {},
            "outputs": [
                {
                    "name": "stdout",
                    "output_type": "stream",
                    "text": [
                        "dict_keys(['agb_observed_baccini_2000_30m', 'CRFVOL_M_sl1_250m', 'HISTPR_250m', 'OCDENS_M_sl1_250m', 'PHIHOX_M_sl1_250m', 'roughness_30s', 'SLGWRB_250m', 'SLTPPT_M_sl1_250m', 'terrain_ruggedness_index_30s', 'TEXMHT_M_sl1_250m', 'wc2.0_bio_30s_01', 'alt_30s', 'AWCh1_M_sl1_250m', 'BDRICM_M_250m', 'BDRLOG_M_250m', 'BLDFIE_M_sl1_250m'])\n"
                    ]
                }
            ],
            "source": [
                "print(raster_paths.keys())"
            ]
        },
        {
            "cell_type": "markdown",
            "metadata": {},
            "source": [
                "## Step 3: Open the rasters\n",
                "\n",
                "Our dependent variable will be 30 meter observations of carbon storage from Baccini et al. (unpublished, but soon to be published) data. The label I assigned in the dictionary above was agb_observed_baccini_2000_30m for this variable. Use gdal.Open, GetRasterBand(1) and ReadAsArray() to read this geotiff as a numpy file\n",
                "\n",
                "Side note: If you get an error like: \"ERROR 4: This is a BigTIFF file.  BigTIFF is not supported by this version of GDAL and libtiff.\" make sure you have installed gdal with the mamba method from lecture 1. "
            ]
        },
        {
            "cell_type": "code",
            "execution_count": 17,
            "metadata": {},
            "outputs": [
                {
                    "name": "stdout",
                    "output_type": "stream",
                    "text": [
                        "Shape of dependent variable: (2000, 2000)\n"
                    ]
                }
            ],
            "source": [
                "# Step 3 code\n",
                "#here we use the function load_array to load raster into a numpy array.\n",
                "def load_array(input_raster_path):\n",
                "    \"\"\"Load a raster into a numpy array\"\"\"\n",
                "    raster = gdal.Open(input_raster_path)\n",
                "    band = raster.GetRasterBand(1)\n",
                "    array = band.ReadAsArray()\n",
                "    return array\n",
                "\n",
                "#load the dependent variable as numpy array\n",
                "array = raster_paths['agb_observed_baccini_2000_30m']\n",
                "agb_observed = load_array(array)\n",
                "print(\"Shape of dependent variable:\",agb_observed.shape)\n"
            ]
        },
        {
            "cell_type": "markdown",
            "metadata": {},
            "source": [
                "## Step 4: Define some arrays\n",
                "\n",
                "Create an empty numpy array (or full of zeros) of the right shape to house all our raster data. A very CPU-efficient way of arranging a stack of 2d rasters (which would be 3d once stacked up), is to flatten each 2d raster into a longer 1d array. This will go into our X matrix. In order to create the right sized X matrix, first get the n_obs and n_vars by inspecting the dependent variable raster and the dictionary of inputs above. Note that the n_vars should be the number of independent AND dependent variables."
            ]
        },
        {
            "cell_type": "code",
            "execution_count": 19,
            "metadata": {},
            "outputs": [
                {
                    "name": "stdout",
                    "output_type": "stream",
                    "text": [
                        "16\n",
                        "Shape: (4000000, 16)\n"
                    ]
                }
            ],
            "source": [
                "# Step 4 code\n",
                "# Get the shape of the dependent variable raster\n",
                "n_obs = agb_observed.shape[0] * agb_observed.shape[1]  \n",
                "\n",
                "# Count the number of variables (including dependent variable)\n",
                "n_vars = len(raster_paths)\n",
                "print(n_vars)\n",
                "\n",
                "# Create an empty array filled with zeros\n",
                "data_array = np.zeros((n_obs, n_vars))\n",
                "print(\"Shape:\",data_array.shape)"
            ]
        },
        {
            "cell_type": "markdown",
            "metadata": {},
            "source": [
                "## Step 5: Load all the independent variables\n",
                "\n",
                "- Iterate through the dictionary and load each raster as a 2d array\n",
                "- flatten it to 1d using the .flatten() method in numpy\n",
                "- Assign this 1d array to the correct column of the data array. By convention, the depvar will be the first column.\n",
                "\n",
                "Hint, assuming you have arranged your X array in the correct way, it should have observations (pixels) as rows and variables as cols. Given that each flattened array is for one variable and is as long as there are rows, a convenient way of assigning it would be to use numpy slice notation, potentially similar to:\n",
                "\n",
                "`data_array[:, column_index_integer]`\n",
                "\n",
                "The first colon just denotes the whole row and the column index is an integer you could create pointing to the right row.\n",
                "\n",
                "Some incomplete code to get you started is below."
            ]
        },
        {
            "cell_type": "code",
            "execution_count": null,
            "metadata": {},
            "outputs": [
                {
                    "name": "stdout",
                    "output_type": "stream",
                    "text": [
                        "Loading ../../../../data/soyo_tile/agb_observed_baccini_2000_30m.tif\n",
                        "Loading ../../../../data/soyo_tile/CRFVOL_M_sl1_250m.tif\n"
                    ]
                },
                {
                    "name": "stdout",
                    "output_type": "stream",
                    "text": [
                        "Loading ../../../../data/soyo_tile/HISTPR_250m.tif\n",
                        "Loading ../../../../data/soyo_tile/OCDENS_M_sl1_250m.tif\n",
                        "Loading ../../../../data/soyo_tile/PHIHOX_M_sl1_250m.tif\n",
                        "Loading ../../../../data/soyo_tile/roughness_30s.tif\n",
                        "Loading ../../../../data/soyo_tile/SLGWRB_250m.tif\n",
                        "Loading ../../../../data/soyo_tile/SLTPPT_M_sl1_250m.tif\n",
                        "Loading ../../../../data/soyo_tile/terrain_ruggedness_index_30s.tif\n",
                        "Loading ../../../../data/soyo_tile/TEXMHT_M_sl1_250m.tif\n",
                        "Loading ../../../../data/soyo_tile/wc2.0_bio_30s_01.tif\n",
                        "Loading ../../../../data/soyo_tile/alt_30s.tif\n",
                        "Loading ../../../../data/soyo_tile/AWCh1_M_sl1_250m.tif\n",
                        "Loading ../../../../data/soyo_tile/BDRICM_M_250m.tif\n",
                        "Loading ../../../../data/soyo_tile/BDRLOG_M_250m.tif\n",
                        "Loading ../../../../data/soyo_tile/BLDFIE_M_sl1_250m.tif\n",
                        "['agb_observed_baccini_2000_30m', 'CRFVOL_M_sl1_250m', 'HISTPR_250m', 'OCDENS_M_sl1_250m', 'PHIHOX_M_sl1_250m', 'roughness_30s', 'SLGWRB_250m', 'SLTPPT_M_sl1_250m', 'terrain_ruggedness_index_30s', 'TEXMHT_M_sl1_250m', 'wc2.0_bio_30s_01', 'alt_30s', 'AWCh1_M_sl1_250m', 'BDRICM_M_250m', 'BDRLOG_M_250m', 'BLDFIE_M_sl1_250m']\n",
                        "(4000000, 16)\n"
                    ]
                }
            ],
            "source": [
                "# Step 5 code\n",
                "feature_names = []\n",
                "\n",
                "for col_index, (name, path) in enumerate(raster_paths.items()):\n",
                "    print('Loading', path)\n",
                "    raster_array = load_array(path)  # Load raster data\n",
                "    flattened_raster_array = raster_array.flatten()  # Flatten into a 1D array\n",
                "    data_array[:, col_index] = flattened_raster_array  # Assign to the correct column\n",
                "    feature_names.append(name)  # Store feature names\n",
                "\n",
                "print(feature_names)\n",
                "print(data_array.shape)"
            ]
        },
        {
            "cell_type": "markdown",
            "metadata": {},
            "source": [
                "# Step 6: \n",
                "\n",
                "Extract the first array row of the data_array and assign it to y. Assign the rest to X."
            ]
        },
        {
            "cell_type": "code",
            "execution_count": null,
            "metadata": {},
            "outputs": [
                {
                    "name": "stdout",
                    "output_type": "stream",
                    "text": [
                        "(4000000,)\n",
                        "(4000000, 15)\n"
                    ]
                }
            ],
            "source": [
                "# Step 6 code\n",
                "\n",
                "# Extracting y (our dependent variable)\n",
                "\n",
                "y = data_array[:, 0]  \n",
                "print(y.shape)\n",
                "\n",
                "# Extracting X (our independent variables)\n",
                "X = data_array[: ,1:]  \n",
                "print(X.shape)\n",
                "\n"
            ]
        },
        {
            "cell_type": "markdown",
            "metadata": {},
            "source": [
                "# Step 7:\n",
                "\n",
                "Split the X and y into testing and training data such that the training data is the first million pixels and the testing data is the next 200,000. Do this using numpy slice notation on the X and y variables you created."
            ]
        },
        {
            "cell_type": "code",
            "execution_count": null,
            "metadata": {},
            "outputs": [],
            "source": [
                "# Step 7 code\n",
                "# Splitting X and y into training and testing sets using NumPy slice notation\n",
                "X_train = X[:1000000]\n",
                "X_test = X[-200000:]\n",
                "y_train = y[:1000000]\n",
                "y_test = y[-200000:]"
            ]
        },
        {
            "cell_type": "markdown",
            "metadata": {},
            "source": [
                "# Step 8 (optional but useful):\n",
                "\n",
                "To make the code run faster, we are going to use every 10th pixel. We can easily get this via numpy slicing again, using x_train[::10] to get every 10th pixel."
            ]
        },
        {
            "cell_type": "code",
            "execution_count": null,
            "metadata": {},
            "outputs": [],
            "source": [
                "# Step 8 code\n",
                "X_train = X_train[::10]\n",
                "y_train = y_train[::10]\n",
                "X_test = X_test[::10]\n",
                "y_test = y_test[::10]"
            ]
        },
        {
            "cell_type": "markdown",
            "metadata": {},
            "source": [
                "# Step 9:\n",
                "\n",
                "Create a Lasso object (using the default penalty term alpha) and fit it to the training data. Create and print out a vector of predicted carbon values. Also print out the score using the lasso object's .score() method on the TESTING data. Print out the fitted lasso score."
            ]
        },
        {
            "cell_type": "code",
            "execution_count": null,
            "metadata": {},
            "outputs": [
                {
                    "name": "stdout",
                    "output_type": "stream",
                    "text": [
                        "Lasso(max_iter=10000, random_state=0)\n"
                    ]
                }
            ],
            "source": [
                "# Step 9 code\n",
                "# Create an empty Lasso object with a few initial parameters set\n",
                "model_lasso = Lasso(alpha=1.0, random_state=0, max_iter=10000)\n",
                "y_train_hat_lasso = model_lasso.fit(X_train, y_train)\n",
                "print(model_lasso)\n"
            ]
        },
        {
            "cell_type": "code",
            "execution_count": null,
            "metadata": {},
            "outputs": [
                {
                    "name": "stdout",
                    "output_type": "stream",
                    "text": [
                        "Predicted carbon values: [66.6869377  64.74660367 69.07640951 ... 90.60592619 89.33928596\n",
                        " 74.39677148]\n"
                    ]
                }
            ],
            "source": [
                "y_train_hat_lasso = model_lasso.predict(X_train)\n",
                "print('Predicted carbon values:', y_train_hat_lasso)"
            ]
        },
        {
            "cell_type": "code",
            "execution_count": null,
            "metadata": {},
            "outputs": [
                {
                    "name": "stdout",
                    "output_type": "stream",
                    "text": [
                        "Accuracy on train set: 0.5943975260169662\n"
                    ]
                }
            ],
            "source": [
                "score= model_lasso.score(X_train, y_train)\n",
                "print(\"Accuracy on train set:\", score)"
            ]
        },
        {
            "cell_type": "code",
            "execution_count": null,
            "metadata": {},
            "outputs": [
                {
                    "name": "stdout",
                    "output_type": "stream",
                    "text": [
                        "Accuracy on test set: 0.5097471522100042\n"
                    ]
                }
            ],
            "source": [
                "score = model_lasso.score(X_test, y_test)\n",
                "\n",
                "print(\"Accuracy on test set:\", score)"
            ]
        },
        {
            "cell_type": "markdown",
            "metadata": {},
            "source": [
                "# Step 10, optional and just for fun:.\n",
                "\n",
                "To view how our projections LOOK, we can create a predicted matrix on the whole X, reshape it back into the original 2d shape and look at it. You can compare this to the input array to visualize how it looks. Note that this will only work if you name your objects like mine."
            ]
        },
        {
            "cell_type": "code",
            "execution_count": null,
            "metadata": {},
            "outputs": [],
            "source": [
                "# Step 10 code"
            ]
        },
        {
            "cell_type": "markdown",
            "metadata": {},
            "source": [
                "# Step 11:\n",
                "\n",
                "Create a list of 30 alphas using ` np.logspace(-1, 3, 30)`. \n",
                "\n",
                "Using a for loop iterate over those alphas and run the Lasso model like above, but using the alpha values in the loop. Print out the fit score at each step. Using matplotlib, plot how this value changes as alpha changes. Finally, extract the best alpha of the bunch. "
            ]
        },
        {
            "cell_type": "code",
            "execution_count": null,
            "metadata": {},
            "outputs": [
                {
                    "name": "stdout",
                    "output_type": "stream",
                    "text": [
                        "Alpha: 0.1 Score: 0.49281221653744667\n",
                        "Alpha: 0.1373823795883263 Score: 0.49364982587428985\n",
                        "Alpha: 0.18873918221350972 Score: 0.4947816945001292\n",
                        "Alpha: 0.2592943797404667 Score: 0.4963006921708921\n",
                        "Alpha: 0.3562247890262442 Score: 0.4983197104806468\n",
                        "Alpha: 0.4893900918477494 Score: 0.5009660869267845\n",
                        "Alpha: 0.6723357536499337 Score: 0.5043613628715736\n",
                        "Alpha: 0.9236708571873861 Score: 0.5085721749191421\n",
                        "Alpha: 1.2689610031679222 Score: 0.5124513710336216\n",
                        "Alpha: 1.743328822199988 Score: 0.5154271242406102\n",
                        "Alpha: 2.395026619987486 Score: 0.5174592640326362\n",
                        "Alpha: 3.2903445623126677 Score: 0.5198426609470972\n",
                        "Alpha: 4.520353656360243 Score: 0.5201536562062508\n",
                        "Alpha: 6.2101694189156165 Score: 0.5167502877628407\n",
                        "Alpha: 8.531678524172806 Score: 0.5100852430540102\n",
                        "Alpha: 11.721022975334806 Score: 0.49358248366080293\n",
                        "Alpha: 16.102620275609393 Score: 0.4652163390026889\n",
                        "Alpha: 22.12216291070448 Score: 0.42348804392372696\n",
                        "Alpha: 30.39195382313198 Score: 0.3478559630012372\n",
                        "Alpha: 41.753189365604 Score: 0.3293012716571957\n",
                        "Alpha: 57.361525104486816 Score: 0.3054427766495096\n",
                        "Alpha: 78.80462815669912 Score: 0.25356543847589597\n",
                        "Alpha: 108.2636733874054 Score: 0.25354106050233804\n",
                        "Alpha: 148.73521072935117 Score: 0.25204854317573955\n",
                        "Alpha: 204.33597178569417 Score: 0.24724616665826948\n",
                        "Alpha: 280.72162039411756 Score: 0.23545679129974117\n",
                        "Alpha: 385.6620421163472 Score: 0.20946138865760322\n",
                        "Alpha: 529.8316906283708 Score: 0.1552539632755583\n",
                        "Alpha: 727.8953843983146 Score: 0.08678236883018442\n",
                        "Alpha: 1000.0 Score: 0.054262942529912817\n",
                        "Best Alpha for Test Scores: 4.520353656360243\n"
                    ]
                }
            ],
            "source": [
                "#Step 11 code\n",
                "#empty list to store the score\n",
                "test_scores = {}\n",
                "#list of 30 alphas\n",
                "alphas = np.logspace(-1, 3, 30)\n",
                "\n",
                "for alpha in alphas:\n",
                "    model_lasso = Lasso(alpha=alpha, random_state=0, max_iter=10000)\n",
                "    model_lasso.fit(X_train, y_train)\n",
                "    score = model_lasso.score(X_test, y_test)\n",
                "    test_scores[alpha] = score\n",
                "    print('Alpha:', alpha, 'Score:', score)\n",
                "\n",
                "best_alpha_test = max(test_scores, key=test_scores.get)\n",
                "best_alpha = best_alpha_test\n",
                "print('Best Alpha for Test Scores:', best_alpha_test)\n"
            ]
        },
        {
            "cell_type": "code",
            "execution_count": null,
            "metadata": {},
            "outputs": [
                {
                    "data": {
                        "image/png": "[encoded data removed]",
                        "text/plain": [
                            "<Figure size 1000x600 with 1 Axes>"
                        ]
                    },
                    "metadata": {},
                    "output_type": "display_data"
                },
                {
                    "name": "stdout",
                    "output_type": "stream",
                    "text": [
                        "Best Alpha for Test Scores: 4.520353656360243\n"
                    ]
                }
            ],
            "source": [
                "# Here, I insert the code to make plot inside the loop. I did take some help\n",
                "#to nicely label the plot.\n",
                "\n",
                "test_scores = {}\n",
                "alphas = np.logspace(-1, 3, 30)\n",
                "\n",
                "best_alpha = None\n",
                "best_alpha_test = None\n",
                "\n",
                "plt.figure(figsize=(10, 6))\n",
                "\n",
                "for alpha in alphas:\n",
                "    model_lasso = Lasso(alpha=alpha, random_state=0, max_iter=10000)\n",
                "    model_lasso.fit(X_train, y_train)\n",
                "    score = model_lasso.score(X_test, y_test)\n",
                "    test_scores[alpha] = score\n",
                "    \n",
                "    # Find best alpha for test scores\n",
                "    if best_alpha_test is None or score > test_scores[best_alpha_test]:\n",
                "        best_alpha_test = alpha\n",
                "\n",
                "    plt.scatter(alpha, score, color='blue')\n",
                "\n",
                "# Plotting\n",
                "plt.axvline(best_alpha_test, linestyle='--', color='red', \n",
                "            label='Best Alpha for Test Scores')\n",
                "plt.xscale('log')\n",
                "plt.xlabel('Alpha')\n",
                "plt.ylabel('Score ')\n",
                "plt.title('Alpha vs. Test Scores')\n",
                "plt.legend()\n",
                "plt.grid(True)\n",
                "plt.show()\n",
                "\n",
                "print('Best Alpha for Test Scores:', best_alpha_test)\n"
            ]
        },
        {
            "cell_type": "markdown",
            "metadata": {},
            "source": [
                "# Step 12: \n",
                "\n",
                "Rerun the lasso with that best value and identify all of the coefficiencts that were \"selected\" ie had non-zero values. Save these coefficient indices and labels to a list."
            ]
        },
        {
            "cell_type": "code",
            "execution_count": null,
            "metadata": {},
            "outputs": [
                {
                    "name": "stdout",
                    "output_type": "stream",
                    "text": [
                        "Coefficients: [ 0.          0.63974061  0.24462421 -6.22075713 -0.         -0.\n",
                        " -0.          0.32890017 -5.36312292  0.         -0.07871124 -0.\n",
                        "  4.34081434  1.14100755 -0.32220005]\n"
                    ]
                }
            ],
            "source": [
                "# Step 12 code\n",
                "\n",
                "#reruning the same steps as above with best alpha that we identified above\n",
                "lasso_2 = Lasso(alpha = 4.520353656360243, random_state = 0, max_iter = 10000).fit(X_train, y_train)\n",
                "\n",
                "print(\"Coefficients:\", lasso_2.coef_)"
            ]
        },
        {
            "cell_type": "code",
            "execution_count": null,
            "metadata": {},
            "outputs": [
                {
                    "name": "stdout",
                    "output_type": "stream",
                    "text": [
                        "['agb_observed_baccini_2000_30m', 'CRFVOL_M_sl1_250m', 'HISTPR_250m', 'OCDENS_M_sl1_250m', 'PHIHOX_M_sl1_250m', 'roughness_30s', 'SLGWRB_250m', 'SLTPPT_M_sl1_250m', 'terrain_ruggedness_index_30s', 'TEXMHT_M_sl1_250m', 'wc2.0_bio_30s_01', 'alt_30s', 'AWCh1_M_sl1_250m', 'BDRICM_M_250m', 'BDRLOG_M_250m', 'BLDFIE_M_sl1_250m']\n",
                        "['CRFVOL_M_sl1_250m', 'HISTPR_250m', 'OCDENS_M_sl1_250m', 'PHIHOX_M_sl1_250m', 'roughness_30s', 'SLGWRB_250m', 'SLTPPT_M_sl1_250m', 'terrain_ruggedness_index_30s', 'TEXMHT_M_sl1_250m', 'wc2.0_bio_30s_01', 'alt_30s', 'AWCh1_M_sl1_250m', 'BDRICM_M_250m', 'BDRLOG_M_250m', 'BLDFIE_M_sl1_250m']\n"
                    ]
                }
            ],
            "source": [
                "#A thing to realize is that the features_name list we created in Step 5 include \n",
                "#\"agb_observed_baccini_2000_30m\" (our dependent variable) as the first element,\n",
                "# so we create a new list of independent variables only\n",
                "\n",
                "print(feature_names)\n",
                "feature_name = feature_names[1:]\n",
                "print(feature_name)"
            ]
        },
        {
            "cell_type": "code",
            "execution_count": null,
            "metadata": {},
            "outputs": [
                {
                    "name": "stdout",
                    "output_type": "stream",
                    "text": [
                        "Coefficient CRFVOL_M_sl1_250m was 0.0\n",
                        "Coefficient HISTPR_250m was 0.6397406121398291\n",
                        "Coefficient OCDENS_M_sl1_250m was 0.24462421409903706\n",
                        "Coefficient PHIHOX_M_sl1_250m was -6.220757126363239\n",
                        "Coefficient roughness_30s was -0.0\n",
                        "Coefficient SLGWRB_250m was -0.0\n",
                        "Coefficient SLTPPT_M_sl1_250m was -0.0\n",
                        "Coefficient terrain_ruggedness_index_30s was 0.32890016787035947\n",
                        "Coefficient TEXMHT_M_sl1_250m was -5.3631229245726155\n",
                        "Coefficient wc2.0_bio_30s_01 was 0.0\n",
                        "Coefficient alt_30s was -0.07871124274874718\n",
                        "Coefficient AWCh1_M_sl1_250m was -0.0\n",
                        "Coefficient BDRICM_M_250m was 4.340814344592574\n",
                        "Coefficient BDRLOG_M_250m was 1.1410075474188568\n",
                        "Coefficient BLDFIE_M_sl1_250m was -0.3222000466550357\n"
                    ]
                }
            ],
            "source": [
                "#now we identify the selected coefficients among the 15 independent variables\n",
                "\n",
                "selected_coefficient_labels = []\n",
                "selected_coefficient_indices = []\n",
                "for i in range(len(lasso_2.coef_)):\n",
                "    print('Coefficient', feature_name[i], 'was', lasso_2.coef_[i])\n",
                "    if abs(lasso_2.coef_[i]) > 0:\n",
                "        selected_coefficient_labels.append(feature_name[i])\n",
                "        selected_coefficient_indices.append(i)"
            ]
        },
        {
            "cell_type": "code",
            "execution_count": null,
            "metadata": {},
            "outputs": [
                {
                    "name": "stdout",
                    "output_type": "stream",
                    "text": [
                        "selected_coefficient_labels ['HISTPR_250m', 'OCDENS_M_sl1_250m', 'PHIHOX_M_sl1_250m', 'terrain_ruggedness_index_30s', 'TEXMHT_M_sl1_250m', 'alt_30s', 'BDRICM_M_250m', 'BDRLOG_M_250m', 'BLDFIE_M_sl1_250m']\n"
                    ]
                }
            ],
            "source": [
                "#following this we get the list of our selected coefficients\n",
                "print('selected_coefficient_labels', selected_coefficient_labels)"
            ]
        },
        {
            "cell_type": "markdown",
            "metadata": {},
            "source": [
                "# Step 13:\n",
                "\n",
                "Using Statsmodels, run an OLS version on the selected variables.\n",
                "\n",
                "Use print to show the results table.\n",
                "\n",
                "Write a description of any advantages this approach has over vanilla OLS.\n"
            ]
        },
        {
            "cell_type": "code",
            "execution_count": null,
            "metadata": {},
            "outputs": [
                {
                    "name": "stdout",
                    "output_type": "stream",
                    "text": [
                        "(100000, 9)\n",
                        "(100000,)\n"
                    ]
                }
            ],
            "source": [
                "#prepare our X and y variable for OLS \n",
                "X_train_selected = X_train[:, selected_coefficient_indices]\n",
                "print(X_train_selected.shape)\n",
                "print(y_train.shape)"
            ]
        },
        {
            "cell_type": "code",
            "execution_count": null,
            "metadata": {},
            "outputs": [
                {
                    "name": "stdout",
                    "output_type": "stream",
                    "text": [
                        "                            OLS Regression Results                            \n",
                        "==============================================================================\n",
                        "Dep. Variable:                      y   R-squared:                       0.592\n",
                        "Model:                            OLS   Adj. R-squared:                  0.592\n",
                        "Method:                 Least Squares   F-statistic:                 1.612e+04\n",
                        "Date:                Fri, 08 Dec 2023   Prob (F-statistic):               0.00\n",
                        "Time:                        17:51:32   Log-Likelihood:            -5.1551e+05\n",
                        "No. Observations:              100000   AIC:                         1.031e+06\n",
                        "Df Residuals:                   99990   BIC:                         1.031e+06\n",
                        "Df Model:                           9                                         \n",
                        "Covariance Type:            nonrobust                                         \n",
                        "==============================================================================\n",
                        "                 coef    std err          t      P>|t|      [0.025      0.975]\n",
                        "------------------------------------------------------------------------------\n",
                        "const          1.2923      1.332      0.970      0.332      -1.319       3.904\n",
                        "x1             3.6162      0.105     34.350      0.000       3.410       3.823\n",
                        "x2             0.1718      0.004     41.606      0.000       0.164       0.180\n",
                        "x3            -7.6015      0.068   -111.289      0.000      -7.735      -7.468\n",
                        "x4             0.3855      0.013     30.529      0.000       0.361       0.410\n",
                        "x5            -7.8343      0.116    -67.327      0.000      -8.062      -7.606\n",
                        "x6             0.0019      0.005      0.368      0.713      -0.008       0.012\n",
                        "x7             4.4929      0.033    137.763      0.000       4.429       4.557\n",
                        "x8             1.5814      0.048     32.883      0.000       1.487       1.676\n",
                        "x9            -0.2748      0.004    -62.284      0.000      -0.283      -0.266\n",
                        "==============================================================================\n",
                        "Omnibus:                     4827.615   Durbin-Watson:                   1.321\n",
                        "Prob(Omnibus):                  0.000   Jarque-Bera (JB):             6307.272\n",
                        "Skew:                           0.486   Prob(JB):                         0.00\n",
                        "Kurtosis:                       3.755   Cond. No.                     1.39e+04\n",
                        "==============================================================================\n",
                        "\n",
                        "Notes:\n",
                        "[1] Standard Errors assume that the covariance matrix of the errors is correctly specified.\n",
                        "[2] The condition number is large, 1.39e+04. This might indicate that there are\n",
                        "strong multicollinearity or other numerical problems.\n"
                    ]
                }
            ],
            "source": [
                "#run the regression\n",
                "import statsmodels\n",
                "from statsmodels.api import OLS\n",
                "\n",
                "# Add a constant term \n",
                "X_with_constant = statsmodels.api.add_constant(X_train_selected)\n",
                "#store the result and print it\n",
                "result = OLS(y_train, X_with_constant).fit().summary()\n",
                "print(result)"
            ]
        },
        {
            "cell_type": "markdown",
            "metadata": {},
            "source": [
                "The obvious advantage of this approach over vanilla OLS is that we get to use only those coefficients \n",
                "that have an impact on the dependent variable (y), naturally improving the model efficieny."
            ]
        }
    ],
    "metadata": [
        {
            "kernelspec": {
                "display_name": "Python 3 (ipykernel)",
                "language": "python",
                "name": "python3"
            }
        }
    ],
    "nbformat": 4,
    "nbformat_minor": 4
}
