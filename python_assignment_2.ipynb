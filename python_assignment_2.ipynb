{
 "cells": [
  {
   "cell_type": "markdown",
   "metadata": {
    "collapsed": false
   },
   "source": [
    "# Python Assignment 2: Python Basics for Big Data\n",
    "\n",
    "For this assignment, enter Python code into code blocks below. I have provided some empty code blocks you can use. Throughout, use comments to explain steps you are doing. No need to go overboard but it is always important in coding to be as descriptive as possible.\n",
    "\n",
    "Most things in this can be solved using methods shown in lecture. However, some cases will require you to search the internet for answers. This is intended because efficiently searching documentation or Stackoverflow is a requirement of modern programing. Also note there will be similar-sounding questions for your practice."
   ]
  },
  {
   "cell_type": "markdown",
   "metadata": {},
   "source": [
    "## Question 1\n",
    "\n",
    "a). **Indentation and Pythonic Code**:\n",
    "   - Create a function named `print_numbers` that prints numbers from 1 to 10, each on a new line. Ensure your code is properly indented and follows Pythonic conventions."
   ]
  },
  {
   "cell_type": "code",
   "execution_count": 10,
   "metadata": {},
   "outputs": [
    {
     "name": "stdout",
     "output_type": "stream",
     "text": [
      "1\n",
      "2\n",
      "3\n",
      "4\n",
      "5\n",
      "6\n",
      "7\n",
      "8\n",
      "9\n",
      "10\n"
     ]
    }
   ],
   "source": [
    "#1 a) Answer\n",
    "def print_numbers (num1, num2):\n",
    "    i=num1\n",
    "    while i <= num2:\n",
    "        print(i)\n",
    "        i += 1\n",
    "\n",
    "#Using the function        \n",
    "print_numbers(1,10)\n"
   ]
  },
  {
   "cell_type": "markdown",
   "metadata": {},
   "source": [
    "b.) **Rules of Functions and Comments**:\n",
    "   - Define a function named `calculate_area` that takes two arguments `length` and `width`, and returns the area of a rectangle. Include a docstring explaining what the function does. See the lecture notes for an example of a docstring.\n"
   ]
  },
  {
   "cell_type": "code",
   "execution_count": 11,
   "metadata": {},
   "outputs": [
    {
     "name": "stdout",
     "output_type": "stream",
     "text": [
      "The area of your rectangle is 20 .\n"
     ]
    }
   ],
   "source": [
    "#1 b) Answer:\n",
    "def calculate_area(length, width):\n",
    "    \"\"\"\n",
    "    This function calculates the area of a rectangle.\n",
    "    :param length: Length of the rectangle.\n",
    "    :param width: Width of the rectangle.\n",
    "    :return: Area.\n",
    "    \"\"\"\n",
    "    area = length * width\n",
    "    return (area)\n",
    "\n",
    "#Using the function\n",
    "area_rectangle = calculate_area(2,10)\n",
    "print(\"The area of your rectangle is\", area_rectangle, \".\")"
   ]
  },
  {
   "cell_type": "markdown",
   "metadata": {},
   "source": [
    "c.) **Basic Data Types**:\n",
    "   - Create a variable `is_active` and set it to `True`. Print the type of `is_active` using the `type()` function.\n"
   ]
  },
  {
   "cell_type": "code",
   "execution_count": 12,
   "metadata": {},
   "outputs": [
    {
     "data": {
      "text/plain": [
       "str"
      ]
     },
     "execution_count": 12,
     "metadata": {},
     "output_type": "execute_result"
    }
   ],
   "source": [
    "#1 c) Answer:\n",
    "is_active = \"True\"\n",
    "type(is_active)"
   ]
  },
  {
   "cell_type": "markdown",
   "metadata": {},
   "source": [
    "\n",
    "d.) **Working with Lists**:\n",
    "   - Create a list named `fruits` containing some fruit names. Use the `append` method to add 'Mango' to the list and print the updated list."
   ]
  },
  {
   "cell_type": "code",
   "execution_count": 13,
   "metadata": {},
   "outputs": [
    {
     "name": "stdout",
     "output_type": "stream",
     "text": [
      "['Apple', 'Grape', 'Orange', 'Guava', 'Mango']\n"
     ]
    }
   ],
   "source": [
    "#1 d) Answer:\n",
    "fruits = [\"Apple\", \"Grape\", \"Orange\", \"Guava\"]\n",
    "fruits.append(\"Mango\")\n",
    "print(fruits)"
   ]
  },
  {
   "cell_type": "markdown",
   "metadata": {},
   "source": [
    "## Question 2:\n",
    "a.) **Naming Conventions**:\n",
    "   - Create a variable following the snake_case naming convention to store the number of days in a week."
   ]
  },
  {
   "cell_type": "code",
   "execution_count": 14,
   "metadata": {},
   "outputs": [
    {
     "name": "stdout",
     "output_type": "stream",
     "text": [
      "Number of days in a week are 7 .\n"
     ]
    }
   ],
   "source": [
    "#2 a) Answer: \n",
    "number_days_week = 7\n",
    "print(\"Number of days in a week are\", number_days_week, \".\")"
   ]
  },
  {
   "cell_type": "markdown",
   "metadata": {},
   "source": [
    "b.) **Control Flows - Conditionals**:\n",
    "   - Write a simple program that checks if a number is positive, negative, or zero using `if`, `elif`, and `else` statements."
   ]
  },
  {
   "cell_type": "code",
   "execution_count": 15,
   "metadata": {},
   "outputs": [
    {
     "name": "stdout",
     "output_type": "stream",
     "text": [
      "The number -1.9 is negative.\n"
     ]
    }
   ],
   "source": [
    "#2 b) Answer:\n",
    "x = -1.9\n",
    "if x > 0:\n",
    "    print(\"The number\", x, \"is positive.\")\n",
    "elif x < 0:\n",
    "    print(\"The number\", x, \"is negative.\")\n",
    "else:\n",
    "    print(\"The number is zero\")"
   ]
  },
  {
   "cell_type": "markdown",
   "metadata": {},
   "source": [
    "c.) **Control Flows - Loops**:\n",
    "   - Write a `for` loop to calculate the sum of numbers from 1 to 100.\n"
   ]
  },
  {
   "cell_type": "code",
   "execution_count": 16,
   "metadata": {},
   "outputs": [
    {
     "name": "stdout",
     "output_type": "stream",
     "text": [
      "Sum of numbers from 1 to 100 : 5050 .\n"
     ]
    }
   ],
   "source": [
    "#2 c) Answer:\n",
    "sum=0\n",
    "for i in range(1,101):\n",
    "    sum = sum + i\n",
    "print(\"Sum of numbers from 1 to 100 :\", sum, \".\")\n"
   ]
  },
  {
   "cell_type": "markdown",
   "metadata": {},
   "source": [
    "\n",
    "d.) **Control Flows - Loop Control Statements**:\n",
    "   - Modify the loop from the previous sub-question to stop the loop if the sum becomes greater than 1000 using a `break` statement.\n"
   ]
  },
  {
   "cell_type": "code",
   "execution_count": 17,
   "metadata": {},
   "outputs": [
    {
     "name": "stdout",
     "output_type": "stream",
     "text": [
      "1035\n"
     ]
    }
   ],
   "source": [
    "#2 c) Answer: \n",
    "sum=0\n",
    "for i in range(1,101):\n",
    "    sum = sum + i\n",
    "    if sum > 1000:\n",
    "        break\n",
    "print(sum)"
   ]
  },
  {
   "cell_type": "markdown",
   "metadata": {},
   "source": [
    "\n",
    "e.) **Functions - Arguments and Return Values**:\n",
    "   - Create a function named `get_full_name` that takes two arguments `first_name` and `last_name`, and returns the full name."
   ]
  },
  {
   "cell_type": "code",
   "execution_count": 18,
   "metadata": {},
   "outputs": [
    {
     "name": "stdout",
     "output_type": "stream",
     "text": [
      "Please input names as strings\n",
      "Prayash Pathak\n"
     ]
    }
   ],
   "source": [
    "#2 e) Answer:\n",
    "def get_full_name(first_name,last_name):\n",
    "    if type(first_name) == str and type(last_name) == str:\n",
    "        full_name = first_name + \" \" + last_name\n",
    "        return(full_name)\n",
    "    else:\n",
    "        return(\"Please input names as strings\")\n",
    "\n",
    "#Calling the function for when the arguments are not strings\n",
    "first_name = 1\n",
    "last_name  = 2\n",
    "full_name = get_full_name (first_name,last_name)\n",
    "print(full_name)\n",
    "\n",
    "#Calling the function with arguments as strings\n",
    "first_name = \"Prayash\"\n",
    "last_name  = \"Pathak\"\n",
    "full_name = get_full_name (first_name,last_name)\n",
    "print(full_name)\n"
   ]
  },
  {
   "cell_type": "markdown",
   "metadata": {},
   "source": [
    "## Question 3\n",
    "**Part A:** Write a python function that calculates the sum of all squared \n",
    "numbers from 1 to x. Illustrate that it works for x = 20.\n",
    "\n",
    "HINT, ** is the exponent operator in python.\n",
    "HINT syntax for a python function is:\n",
    "\n",
    "def function_name(variable_name):\n",
    "    outcome = variable_name + 1\n",
    "    return outcome"
   ]
  },
  {
   "cell_type": "code",
   "execution_count": 19,
   "metadata": {},
   "outputs": [
    {
     "name": "stdout",
     "output_type": "stream",
     "text": [
      "The sum of all squared numbers from 1 to 20 : 2870 .\n"
     ]
    }
   ],
   "source": [
    "#3A Answer\n",
    "def sum_square(x):\n",
    "    #first we check if we have a suitable input\n",
    "    if x <0 or x==1:\n",
    "        return(\"Please input anumber greater than 1\")\n",
    "    else:\n",
    "        sum = 0\n",
    "        for i in range (1, x+1):\n",
    "            sum = sum + i**2\n",
    "        return(sum)\n",
    "\n",
    "#Calling the function for x =20 \n",
    "x = 20   \n",
    "value_function = sum_square(x)\n",
    "print(\"The sum of all squared numbers from 1 to\", x, \":\", value_function, \".\")"
   ]
  },
  {
   "cell_type": "markdown",
   "metadata": {},
   "source": [
    "The python library named \"os\" is a built-in library for dealing with any file on your operating system.\n",
    "Often, research tasks involve LOTS of files and you need to iterate over them. To show you know how\n",
    "to do this, use the os.listdir function to answer the following questions. Note that you need to \n",
    "write \"import os\" to import the library into your code before you can use it:\n",
    "\n",
    "**Part B:** Print out a list of all the files your class root directory. I don't care how many are actually there (in case you've added some yourself) but show me how."
   ]
  },
  {
   "cell_type": "code",
   "execution_count": 20,
   "metadata": {},
   "outputs": [
    {
     "name": "stdout",
     "output_type": "stream",
     "text": [
      "['APEC8222_F23_syllabus.md', '.DS_Store', 'RENDERED_big_data_for_economists', 'big_data_for_economists', 'README.md', '.gitignore', '.git', 'Course Details']\n"
     ]
    }
   ],
   "source": [
    "#3B Answer\n",
    "import os\n",
    "file_list = os.listdir(\"/Users/prayashpathak/Files/APEC 8222/Repos/apec_8222_2023_fall\")\n",
    "\n",
    "print(file_list)"
   ]
  },
  {
   "cell_type": "markdown",
   "metadata": {},
   "source": [
    "**Part C:** Using a FOR loop, iterate over the list from above. Using the function len(), count how many letters there are in the filenames. HINT just like in real life, you may need to google the len() function and see how it work on e.g. strings."
   ]
  },
  {
   "cell_type": "code",
   "execution_count": 21,
   "metadata": {},
   "outputs": [
    {
     "name": "stdout",
     "output_type": "stream",
     "text": [
      "The file name APEC8222_F23_syllabus.md has following letter count : 24\n",
      "The file name .DS_Store has following letter count : 9\n",
      "The file name RENDERED_big_data_for_economists has following letter count : 32\n",
      "The file name big_data_for_economists has following letter count : 23\n",
      "The file name README.md has following letter count : 9\n",
      "The file name .gitignore has following letter count : 10\n",
      "The file name .git has following letter count : 4\n",
      "The file name Course Details has following letter count : 14\n"
     ]
    }
   ],
   "source": [
    "#3C Answer\n",
    "#using for loop and len() function\n",
    "\n",
    "for i in file_list:\n",
    "    letter = len(i)\n",
    "    print(\"The file name\", i, \"has following letter count :\", letter)"
   ]
  },
  {
   "cell_type": "markdown",
   "metadata": {},
   "source": [
    "**Part D:** Write a Python program which iterates over the integers from 1 to 50. For multiples of three print \"Fizz\" instead of the number and for the multiples of five print \"Buzz\". For numbers which are multiples of both three and five print \"FizzBuzz\". Hint: look up how to use the modulo operator (which is written as % in python) which would let you test when the remainder of a devision is exactly 0.\n",
    "\n",
    "Side-note, this is a hilariously over-used question that most software engineers get askedon their first interview for a job."
   ]
  },
  {
   "cell_type": "code",
   "execution_count": 22,
   "metadata": {},
   "outputs": [
    {
     "name": "stdout",
     "output_type": "stream",
     "text": [
      "1\n",
      "2\n",
      "Fizz\n",
      "4\n",
      "Buzz\n",
      "Fizz\n",
      "7\n",
      "8\n",
      "Fizz\n",
      "Buzz\n",
      "11\n",
      "Fizz\n",
      "13\n",
      "14\n",
      "FizzBuzz\n",
      "16\n",
      "17\n",
      "Fizz\n",
      "19\n",
      "Buzz\n",
      "Fizz\n",
      "22\n",
      "23\n",
      "Fizz\n",
      "Buzz\n",
      "26\n",
      "Fizz\n",
      "28\n",
      "29\n",
      "FizzBuzz\n",
      "31\n",
      "32\n",
      "Fizz\n",
      "34\n",
      "Buzz\n",
      "Fizz\n",
      "37\n",
      "38\n",
      "Fizz\n",
      "Buzz\n",
      "41\n",
      "Fizz\n",
      "43\n",
      "44\n",
      "FizzBuzz\n",
      "46\n",
      "47\n",
      "Fizz\n",
      "49\n",
      "Buzz\n"
     ]
    }
   ],
   "source": [
    "# 3D Answer\n",
    "for i in range(1, 51):\n",
    "\n",
    "    #for numbers which are multiple of both three and five\n",
    "    if (i%3) == 0 and (i%5)==0 :\n",
    "        print(\"FizzBuzz\")\n",
    "    \n",
    "    #for numbers which are multiple of 3\n",
    "    elif (i%3) == 0:\n",
    "        print(\"Fizz\")\n",
    "    \n",
    "    #for numbers which are multiple of 5\n",
    "    elif (i%5) == 0:\n",
    "        print(\"Buzz\")\n",
    "\n",
    "    #for remaining numbers\n",
    "    else:\n",
    "        print(i)\n",
    "    "
   ]
  }
 ],
 "metadata": {
  "anaconda-cloud": {},
  "kernelspec": {
   "display_name": "Python 3.10.6 ('8222env1')",
   "language": "python",
   "name": "python3"
  },
  "language_info": {
   "codemirror_mode": {
    "name": "ipython",
    "version": 3
   },
   "file_extension": ".py",
   "mimetype": "text/x-python",
   "name": "python",
   "nbconvert_exporter": "python",
   "pygments_lexer": "ipython3",
   "version": "3.10.8"
  },
  "vscode": {
   "interpreter": {
    "hash": "0db313e0ad7b6749a6d098fb61fddaded88cbd823278030b75fa0893942c8f77"
   }
  }
 },
 "nbformat": 4,
 "nbformat_minor": 1
}
